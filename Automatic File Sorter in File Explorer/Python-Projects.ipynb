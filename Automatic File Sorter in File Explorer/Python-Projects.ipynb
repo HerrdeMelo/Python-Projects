{
 "cells": [
  {
   "cell_type": "markdown",
   "id": "8dd2698e",
   "metadata": {},
   "source": [
    "Automatic File Sorter in File Explorer"
   ]
  },
  {
   "cell_type": "code",
   "execution_count": 21,
   "id": "13a0f878",
   "metadata": {},
   "outputs": [],
   "source": [
    "import os, shutil"
   ]
  },
  {
   "cell_type": "code",
   "execution_count": 22,
   "id": "2bdbe7e4",
   "metadata": {},
   "outputs": [],
   "source": [
    "path = r\"C:/Users/João Vítor/Documents/File Explorer Project/\""
   ]
  },
  {
   "cell_type": "code",
   "execution_count": 23,
   "id": "8e0d5e3b",
   "metadata": {},
   "outputs": [],
   "source": [
    "file_name = os.listdir(path)"
   ]
  },
  {
   "cell_type": "code",
   "execution_count": 24,
   "id": "5fc32629",
   "metadata": {},
   "outputs": [
    {
     "name": "stdout",
     "output_type": "stream",
     "text": [
      "C:/Users/João Vítor/Documents/File Explorer Project/excel files\n",
      "C:/Users/João Vítor/Documents/File Explorer Project/image files\n",
      "C:/Users/João Vítor/Documents/File Explorer Project/text files\n"
     ]
    }
   ],
   "source": [
    "folder_names = ['excel files', 'image files', 'text files']\n",
    "\n",
    "for i in range(0,3):\n",
    "    \n",
    "    if not os.path.exists(path + folder_names[i]):\n",
    "        print(path + folder_names[i])\n",
    "        os.makedirs((path + folder_names[i]))\n",
    "\n",
    "for file in file_name:\n",
    "    if \".xlsx\" in file and not os.path.exists(path + \"excel files/\" + file):\n",
    "        shutil.move(path + file, path + \"excel files/\" + file)\n",
    "        \n",
    "    elif \".jfif\" in file and not os.path.exists(path + \"image files/\" + file):\n",
    "        shutil.move(path + file, path + \"image files/\" + file)\n",
    "        \n",
    "    elif \".txt\" in file and not os.path.exists(path + \"text files/\" + file):\n",
    "        shutil.move(path + file, path + \"text files/\" + file)"
   ]
  },
  {
   "cell_type": "code",
   "execution_count": 20,
   "id": "ae8e296c",
   "metadata": {},
   "outputs": [],
   "source": []
  },
  {
   "cell_type": "code",
   "execution_count": null,
   "id": "1490461f",
   "metadata": {},
   "outputs": [],
   "source": []
  }
 ],
 "metadata": {
  "kernelspec": {
   "display_name": "Python 3 (ipykernel)",
   "language": "python",
   "name": "python3"
  },
  "language_info": {
   "codemirror_mode": {
    "name": "ipython",
    "version": 3
   },
   "file_extension": ".py",
   "mimetype": "text/x-python",
   "name": "python",
   "nbconvert_exporter": "python",
   "pygments_lexer": "ipython3",
   "version": "3.11.5"
  }
 },
 "nbformat": 4,
 "nbformat_minor": 5
}
