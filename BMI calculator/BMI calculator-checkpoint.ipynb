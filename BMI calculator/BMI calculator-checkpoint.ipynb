{
 "cells": [
  {
   "cell_type": "markdown",
   "id": "9e1e853e",
   "metadata": {},
   "source": [
    "BMI Calculator\n",
    "(Body Mass Index)"
   ]
  },
  {
   "cell_type": "code",
   "execution_count": 31,
   "id": "61390fc6",
   "metadata": {},
   "outputs": [
    {
     "name": "stdout",
     "output_type": "stream",
     "text": [
      "Weight in pounds: 150\n",
      "Height in inches: 60\n",
      "29.29\n",
      "Overweight\n"
     ]
    }
   ],
   "source": [
    "weight = float(input(\"Weight in pounds: \"))\n",
    "\n",
    "height = float(input(\"Height in inches: \"))\n",
    "\n",
    "bmi = (weight * 703)/(height*height)\n",
    "\n",
    "print (round(bmi,2))\n",
    "if bmi > 0:\n",
    "    if bmi < 18.5:\n",
    "        print(\"Underweight\")\n",
    "    elif bmi >=18.5 and bmi < 24.9:\n",
    "        print(\"Normal weight\")\n",
    "    elif bmi >= 25 and bmi <=29.9:\n",
    "        print(\"Overweight\")\n",
    "    elif bmi >= 30 and bmi < 34.9:\n",
    "        print(\"Obese\")\n",
    "    elif bmi >= 35 and bmi <39.9:\n",
    "        print(\"Severely obese\")\n",
    "    else:\n",
    "        print(\"Morbidly obese\")\n",
    "else:\n",
    "    print(\"Please enter a valid input\")"
   ]
  },
  {
   "cell_type": "code",
   "execution_count": 25,
   "id": "f7e24802",
   "metadata": {},
   "outputs": [],
   "source": [
    "#bmi = (weight in pounds x 703) / (height in inches x height in inches)"
   ]
  },
  {
   "cell_type": "code",
   "execution_count": null,
   "id": "531c26e3",
   "metadata": {},
   "outputs": [],
   "source": []
  },
  {
   "cell_type": "code",
   "execution_count": null,
   "id": "feeaef7d",
   "metadata": {},
   "outputs": [],
   "source": []
  },
  {
   "cell_type": "code",
   "execution_count": null,
   "id": "07a24169",
   "metadata": {},
   "outputs": [],
   "source": []
  }
 ],
 "metadata": {
  "kernelspec": {
   "display_name": "Python 3 (ipykernel)",
   "language": "python",
   "name": "python3"
  },
  "language_info": {
   "codemirror_mode": {
    "name": "ipython",
    "version": 3
   },
   "file_extension": ".py",
   "mimetype": "text/x-python",
   "name": "python",
   "nbconvert_exporter": "python",
   "pygments_lexer": "ipython3",
   "version": "3.11.5"
  }
 },
 "nbformat": 4,
 "nbformat_minor": 5
}
